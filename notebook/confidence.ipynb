{
 "cells": [
  {
   "cell_type": "code",
   "execution_count": 10,
   "id": "0df8ea7c",
   "metadata": {},
   "outputs": [
    {
     "name": "stdout",
     "output_type": "stream",
     "text": [
      "Confidence for rule (['bread'], ['milk']): 0.7499999999999999\n"
     ]
    }
   ],
   "source": [
    "from confidence import confidence\n",
    "\n",
    "dataset = [\n",
    "            ['bread', 'milk'],\n",
    "            ['bread', 'diaper', 'beer', 'eggs'],\n",
    "            ['milk', 'diaper', 'beer', 'cola'],\n",
    "            ['bread', 'milk', 'diaper', 'beer'],\n",
    "            ['bread', 'milk', 'diaper', 'cola']\n",
    "        ]\n",
    "rule = (['bread'], ['milk'])  \n",
    "\n",
    "confidence_value = confidence(dataset, rule)\n",
    "print(f\"Confidence for rule {rule}: {confidence_value}\")"
   ]
  }
 ],
 "metadata": {
  "kernelspec": {
   "display_name": "Python 3",
   "language": "python",
   "name": "python3"
  },
  "language_info": {
   "codemirror_mode": {
    "name": "ipython",
    "version": 3
   },
   "file_extension": ".py",
   "mimetype": "text/x-python",
   "name": "python",
   "nbconvert_exporter": "python",
   "pygments_lexer": "ipython3",
   "version": "3.10.12"
  }
 },
 "nbformat": 4,
 "nbformat_minor": 5
}

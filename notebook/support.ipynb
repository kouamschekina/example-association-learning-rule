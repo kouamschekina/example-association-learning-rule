{
 "cells": [
  {
   "cell_type": "code",
   "execution_count": 9,
   "id": "fb107e08",
   "metadata": {},
   "outputs": [
    {
     "name": "stdout",
     "output_type": "stream",
     "text": [
      "Support for ['bread', 'milk']: 0.6\n"
     ]
    }
   ],
   "source": [
    "from support import support\n",
    "\n",
    "dataset = [\n",
    "            ['bread', 'milk'],\n",
    "            ['bread', 'diaper', 'beer', 'eggs'],\n",
    "            ['milk', 'diaper', 'beer', 'cola'],\n",
    "            ['bread', 'milk', 'diaper', 'beer'],\n",
    "            ['bread', 'milk', 'diaper', 'cola']\n",
    "]\n",
    "itemset = ['bread', 'milk']\n",
    "#calling the support function\n",
    "\n",
    "support_value = support(itemset, dataset)\n",
    "print(f\"Support for {itemset}: {support_value}\")"
   ]
  }
 ],
 "metadata": {
  "kernelspec": {
   "display_name": "Python 3",
   "language": "python",
   "name": "python3"
  },
  "language_info": {
   "codemirror_mode": {
    "name": "ipython",
    "version": 3
   },
   "file_extension": ".py",
   "mimetype": "text/x-python",
   "name": "python",
   "nbconvert_exporter": "python",
   "pygments_lexer": "ipython3",
   "version": "3.10.12"
  }
 },
 "nbformat": 4,
 "nbformat_minor": 5
}

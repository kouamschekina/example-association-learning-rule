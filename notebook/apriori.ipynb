{
 "cells": [
  {
   "cell_type": "code",
   "execution_count": null,
   "id": "54e2e8be",
   "metadata": {},
   "outputs": [],
   "source": [
    "# Assuming apriori.py is in the same directory or update the path accordingly\n",
    "from apriori import apriori\n",
    "\n",
    "# Define your dataset\n",
    "dataset = [\n",
    "    ['Milk', 'Bread', 'Eggs'],\n",
    "    ['Milk', 'Diapers'],\n",
    "    ['Bread', 'Butter', 'Eggs'],\n",
    "]\n",
    "\n",
    "# Set your minimum support and confidence thresholds\n",
    "min_support = 0.4\n",
    "min_confidence = 0.6\n",
    "\n",
    "# Call the apriori function\n",
    "frequent_itemsets, strong_rules = apriori(dataset, min_support, min_confidence)\n",
    "\n",
    "# Display the results\n",
    "print(\"Frequent Itemsets:\")\n",
    "for itemset, support_value in frequent_itemsets.items():\n",
    "    print(f\"{itemset}: {support_value}\")\n",
    "\n",
    "print(\"\\nStrong Rules:\")\n",
    "for rule, confidence_value in strong_rules.items():\n",
    "    print(f\"{rule[0]} -> {rule[1]} (Confidence: {confidence_value})\")"
   ]


  },
  {
   "cell_type": "code",
   "execution_count": null,
   "outputs": [],
   "source": [
    "apriori([[1, 3], [1, 2], [1, 2, 3]], 0.5)"
   ],
   "metadata": {
    "collapsed": false
   },
   "id": "4d2a7fe66b2d70bb"

  }
 ],
 "metadata": {
  "kernelspec": {
   "display_name": "Python 3",
   "language": "python",
   "name": "python3"
  },
  "language_info": {
   "codemirror_mode": {
    "name": "ipython",
    "version": 3
   },
   "file_extension": ".py",
   "mimetype": "text/x-python",
   "name": "python",
   "nbconvert_exporter": "python",
   "pygments_lexer": "ipython3",
   "version": "3.10.12"
  }
 },
 "nbformat": 4,
 "nbformat_minor": 5
}
